{
 "cells": [
  {
   "cell_type": "code",
   "execution_count": 101,
   "id": "8cf7d5bf",
   "metadata": {},
   "outputs": [],
   "source": [
    "import pyarrow.parquet as pq\n",
    "import pandas as pd\n",
    "# Specify the paths for the test and train Parquet files\n",
    "test_file_path = r'C:\\Users\\ASUS\\OneDrive\\Desktop\\deep learning\\relevance_test.parquet'  # Test file path\n",
    "train_file_path = r'C:\\Users\\ASUS\\OneDrive\\Desktop\\deep learning\\relevance_train.parquet'  # Train file path\n"
   ]
  },
  {
   "cell_type": "code",
   "execution_count": 3,
   "id": "048ff659",
   "metadata": {},
   "outputs": [
    {
     "name": "stdout",
     "output_type": "stream",
     "text": [
      "Train Data:\n",
      "                                 doc_id  judgement           author  \\\n",
      "0      004c6120d0aa69da29cc045da0562168          0   Terrence McCoy   \n",
      "1      005a1f0c2064487a7f15443b2a5f349a          0    Brian McNoldy   \n",
      "2  00722094-2935-11e2-b4e0-346287b7e56c          0  Editorial Board   \n",
      "3  007d2856-7cc4-11e4-84d4-7c896b90abdc          0   Adam Bernstein   \n",
      "4  009aafb6-0283-11e6-8bb1-f124a43f84dc          0             None   \n",
      "\n",
      "                                                body              byline  \\\n",
      "0  <p>More than 60 years ago, a fair-skinned Iris...   By Terrence McCoy   \n",
      "1  <p>Hurricane Fred, which formed over the weeke...    By Brian McNoldy   \n",
      "2  <p>EIGHT YEARS AGO this month, an inspiring mo...  By Editorial Board   \n",
      "3  <p>Mary Burke Washington, an economist who was...   By Adam Bernstein   \n",
      "4  <p>When Treasury Secretary Jack Lew <a href=\"h...                None   \n",
      "\n",
      "                                               title  topic_id  \\\n",
      "0  Report on Irish baby homes documents use of in...       321   \n",
      "1  Hurricane Fred is a fountain of ‘firsts’ in th...       321   \n",
      "2                 Ukraine slides away from democracy       321   \n",
      "3  Mary Washington, government official and widow...       321   \n",
      "4                  Will women be shortchanged again?       321   \n",
      "\n",
      "                                         description  \\\n",
      "0  Pertinent documents will reflect the fact that...   \n",
      "1  Pertinent documents will reflect the fact that...   \n",
      "2  Pertinent documents will reflect the fact that...   \n",
      "3  Pertinent documents will reflect the fact that...   \n",
      "4  Pertinent documents will reflect the fact that...   \n",
      "\n",
      "                                           narrative           topic_title  \n",
      "0  Pertinent documents relating to this issue wil...  Women in Parliaments  \n",
      "1  Pertinent documents relating to this issue wil...  Women in Parliaments  \n",
      "2  Pertinent documents relating to this issue wil...  Women in Parliaments  \n",
      "3  Pertinent documents relating to this issue wil...  Women in Parliaments  \n",
      "4  Pertinent documents relating to this issue wil...  Women in Parliaments  \n",
      "\n",
      "Test Data:\n",
      "                                    doc_id                          author  \\\n",
      "2050      0002e4f816c863e4b912d6d97dcb68ad                      Max Bearak   \n",
      "2051  000c86ea-55df-11e2-bf3e-76c0a789346f                Simson Garfinkel   \n",
      "2052      001b27476dfbcdd1431b1607419d83af                     Burke Balch   \n",
      "2053  001eb05a-719e-11e3-8b3f-b1666705ca3b  Juliet Eilperin; Amy Goldstein   \n",
      "2054      0058b29067c414f21b35c8f64cb49e64              Ariana Eunjung Cha   \n",
      "\n",
      "                                                   body  \\\n",
      "2050  <p>The United Nations Human Rights Committee <...   \n",
      "2051  <p>In January 1976, Ray Kurzweil introduced th...   \n",
      "2052  <p><strong><em>Each week, </em><a href=\"http:/...   \n",
      "2053  <p>The Obama administration has decided to jet...   \n",
      "2054  <p>The adolescent years are when people's bodi...   \n",
      "\n",
      "                                    byline  \\\n",
      "2050                         By Max Bearak   \n",
      "2051                   By Simson Garfinkel   \n",
      "2052                        By Burke Balch   \n",
      "2053  By Juliet Eilperin and Amy Goldstein   \n",
      "2054                 By Ariana Eunjung Cha   \n",
      "\n",
      "                                                  title  topic_id  \\\n",
      "2050  A U.N. judgment says Ireland’s anti-abortion l...       350   \n",
      "2051  ‘How to Create a Mind: The Secret of Human Tho...       350   \n",
      "2052  Why are we more interested in pushing death th...       350   \n",
      "2053  Obama administration to end contract with CGI ...       350   \n",
      "2054  Teenagers are as sedentary as 60-year-olds by ...       350   \n",
      "\n",
      "                                            description  \\\n",
      "2050  Is it hazardous to the health of individuals t...   \n",
      "2051  Is it hazardous to the health of individuals t...   \n",
      "2052  Is it hazardous to the health of individuals t...   \n",
      "2053  Is it hazardous to the health of individuals t...   \n",
      "2054  Is it hazardous to the health of individuals t...   \n",
      "\n",
      "                                              narrative  \\\n",
      "2050  Relevant documents would contain any informati...   \n",
      "2051  Relevant documents would contain any informati...   \n",
      "2052  Relevant documents would contain any informati...   \n",
      "2053  Relevant documents would contain any informati...   \n",
      "2054  Relevant documents would contain any informati...   \n",
      "\n",
      "                        topic_title  \n",
      "2050  Health and Computer Terminals  \n",
      "2051  Health and Computer Terminals  \n",
      "2052  Health and Computer Terminals  \n",
      "2053  Health and Computer Terminals  \n",
      "2054  Health and Computer Terminals  \n"
     ]
    }
   ],
   "source": [
    "# Read the test file into a PyArrow Table\n",
    "test_table = pq.read_table(test_file_path)\n",
    "# Convert the test PyArrow Table to a Pandas DataFrame\n",
    "test_df = test_table.to_pandas()\n",
    "# Read the train file into a PyArrow Table\n",
    "train_table = pq.read_table(train_file_path)\n",
    "# Convert the train PyArrow Table to a Pandas DataFrame\n",
    "train_df = train_table.to_pandas()\n",
    "# Display the first few rows of train data\n",
    "print(\"Train Data:\")\n",
    "print(train_df.head())\n",
    "\n",
    "# Display the first few rows of test data\n",
    "print(\"\\nTest Data:\")\n",
    "print(test_df.head())\n",
    "import re\n",
    "\n"
   ]
  },
  {
   "cell_type": "code",
   "execution_count": 4,
   "id": "7769b386",
   "metadata": {},
   "outputs": [
    {
     "name": "stdout",
     "output_type": "stream",
     "text": [
      "\n",
      "Preprocessed Train Data:\n",
      "                                 doc_id  judgement           author  \\\n",
      "0      004c6120d0aa69da29cc045da0562168          0   Terrence McCoy   \n",
      "1      005a1f0c2064487a7f15443b2a5f349a          0    Brian McNoldy   \n",
      "2  00722094-2935-11e2-b4e0-346287b7e56c          0  Editorial Board   \n",
      "3  007d2856-7cc4-11e4-84d4-7c896b90abdc          0   Adam Bernstein   \n",
      "4  009aafb6-0283-11e6-8bb1-f124a43f84dc          0             None   \n",
      "\n",
      "                                                body              byline  \\\n",
      "0  pmore than 60 years ago a fairskinned irish po...   By Terrence McCoy   \n",
      "1  phurricane fred which formed over the weekend ...    By Brian McNoldy   \n",
      "2  peight years ago this month an inspiring movem...  By Editorial Board   \n",
      "3  pmary burke washington an economist who was th...   By Adam Bernstein   \n",
      "4  pwhen treasury secretary jack lew a hrefhttpsw...                None   \n",
      "\n",
      "                                               title  topic_id  \\\n",
      "0  Report on Irish baby homes documents use of in...       321   \n",
      "1  Hurricane Fred is a fountain of ‘firsts’ in th...       321   \n",
      "2                 Ukraine slides away from democracy       321   \n",
      "3  Mary Washington, government official and widow...       321   \n",
      "4                  Will women be shortchanged again?       321   \n",
      "\n",
      "                                         description  \\\n",
      "0  Pertinent documents will reflect the fact that...   \n",
      "1  Pertinent documents will reflect the fact that...   \n",
      "2  Pertinent documents will reflect the fact that...   \n",
      "3  Pertinent documents will reflect the fact that...   \n",
      "4  Pertinent documents will reflect the fact that...   \n",
      "\n",
      "                                           narrative           topic_title  \n",
      "0  Pertinent documents relating to this issue wil...  Women in Parliaments  \n",
      "1  Pertinent documents relating to this issue wil...  Women in Parliaments  \n",
      "2  Pertinent documents relating to this issue wil...  Women in Parliaments  \n",
      "3  Pertinent documents relating to this issue wil...  Women in Parliaments  \n",
      "4  Pertinent documents relating to this issue wil...  Women in Parliaments  \n"
     ]
    }
   ],
   "source": [
    "# Update preprocess_text function to handle potential None values\n",
    "def preprocess_text(text):\n",
    "    if text is not None and isinstance(text, str):\n",
    "        # Convert text to lowercase and remove punctuation\n",
    "        text = text.lower()\n",
    "        text = re.sub(r'[^\\w\\s]', '', text)\n",
    "        return text\n",
    "    else:\n",
    "        return ''\n",
    "\n",
    "# Apply text preprocessing to the 'body' column in 'train_df' and 'test_df'\n",
    "train_df['body'] = train_df['body'].apply(preprocess_text)\n",
    "test_df['body'] = test_df['body'].apply(preprocess_text)\n",
    "\n",
    "# Display the preprocessed text data\n",
    "print(\"\\nPreprocessed Train Data:\")\n",
    "print(train_df.head())\n"
   ]
  },
  {
   "cell_type": "code",
   "execution_count": 6,
   "id": "7c98761d",
   "metadata": {},
   "outputs": [],
   "source": [
    "from sklearn.feature_extraction.text import TfidfVectorizer\n",
    "from sklearn.feature_extraction.text import TfidfVectorizer\n",
    "from tensorflow.keras.models import Sequential\n",
    "from tensorflow.keras.layers import Dense\n",
    "from sklearn.model_selection import train_test_split\n",
    "\n",
    "# Vectorize the text data\n",
    "tfidf_vectorizer = TfidfVectorizer()\n",
    "X_train = tfidf_vectorizer.fit_transform(train_df['body'])\n",
    "X_test = tfidf_vectorizer.transform(test_df['body'])\n"
   ]
  },
  {
   "cell_type": "code",
   "execution_count": 25,
   "id": "51dbf2ff",
   "metadata": {},
   "outputs": [
    {
     "name": "stdout",
     "output_type": "stream",
     "text": [
      "Column Names of Train Data:\n",
      "Index(['doc_id', 'judgement', 'author', 'body', 'byline', 'title', 'topic_id',\n",
      "       'description', 'narrative', 'topic_title'],\n",
      "      dtype='object')\n",
      "\n",
      "Column Names of Test Data:\n",
      "Index(['doc_id', 'author', 'body', 'byline', 'title', 'topic_id',\n",
      "       'description', 'narrative', 'topic_title'],\n",
      "      dtype='object')\n"
     ]
    }
   ],
   "source": [
    "# Display the column names of train_df and test_df\n",
    "print(\"Column Names of Train Data:\")\n",
    "print(train_df.columns)\n",
    "\n",
    "print(\"\\nColumn Names of Test Data:\")\n",
    "print(test_df.columns)\n",
    "\n",
    "# Define the target variable based on the presence of 'judgement' in test_df\n",
    "if 'judgement' in test_df.columns:\n",
    "    y_train = train_df['judgement']\n",
    "    y_test = test_df['judgement']\n",
    "else:\n",
    "    # Adjust the target variable assignment based on the column availability\n",
    "    y_train = train_df['judgement']\n",
    "    y_test = None  # Placeholder if 'judgement' column is not present in test_df\n",
    "\n"
   ]
  },
  {
   "cell_type": "code",
   "execution_count": 35,
   "id": "5003b3b2",
   "metadata": {},
   "outputs": [],
   "source": [
    "# Check and align the number of samples in X_train and y_train\n",
    "if X_train.shape[0] != y_train.shape[0]:\n",
    "    # Implement the required preprocessing step to align the number of samples\n",
    "    # This could involve removing extra samples from the larger dataset or augmenting the smaller dataset to match the larger one\n",
    "    if X_train.shape[0] > y_train.shape[0]:\n",
    "        X_train = X_train[:y_train.shape[0], :]\n",
    "    else:\n",
    "        y_train = y_train[:X_train.shape[0]]\n",
    "\n",
    "# Once the number of samples is aligned, proceed with the train-test split\n",
    "X_train, X_val, y_train, y_val = train_test_split(X_train, y_train, test_size=0.2, random_state=42)\n",
    "\n",
    "\n"
   ]
  },
  {
   "cell_type": "code",
   "execution_count": 109,
   "id": "bc05a17a",
   "metadata": {},
   "outputs": [],
   "source": [
    "from tensorflow.keras.layers import Input\n",
    "\n",
    "# Define the input shape explicitly using Input(shape)\n",
    "input_shape = X_train.shape[1]  # Assuming X_train is your training data\n",
    "model = Sequential([\n",
    "    Input(shape=(input_shape,)),\n",
    "    Dense(128, activation='relu'),\n",
    "    Dense(64, activation='relu'),\n",
    "    Dense(32, activation='relu'),\n",
    "    Dense(1, activation='sigmoid')])\n"
   ]
  },
  {
   "cell_type": "code",
   "execution_count": 110,
   "id": "f82a2c4e",
   "metadata": {},
   "outputs": [],
   "source": [
    "# Compile the model\n",
    "model.compile(optimizer='adam', loss='binary_crossentropy', metrics=['accuracy'])"
   ]
  },
  {
   "cell_type": "code",
   "execution_count": 111,
   "id": "49c0c74d",
   "metadata": {},
   "outputs": [
    {
     "name": "stdout",
     "output_type": "stream",
     "text": [
      "Epoch 1/5\n",
      "\u001b[1m212/212\u001b[0m \u001b[32m━━━━━━━━━━━━━━━━━━━━\u001b[0m\u001b[37m\u001b[0m \u001b[1m174s\u001b[0m 797ms/step - accuracy: 0.8459 - loss: 0.4822 - val_accuracy: 0.8432 - val_loss: 0.4444\n",
      "Epoch 2/5\n",
      "\u001b[1m212/212\u001b[0m \u001b[32m━━━━━━━━━━━━━━━━━━━━\u001b[0m\u001b[37m\u001b[0m \u001b[1m169s\u001b[0m 796ms/step - accuracy: 0.8769 - loss: 0.2757 - val_accuracy: 0.7737 - val_loss: 0.6746\n",
      "Epoch 3/5\n",
      "\u001b[1m212/212\u001b[0m \u001b[32m━━━━━━━━━━━━━━━━━━━━\u001b[0m\u001b[37m\u001b[0m \u001b[1m166s\u001b[0m 784ms/step - accuracy: 0.9707 - loss: 0.0924 - val_accuracy: 0.7864 - val_loss: 0.7660\n",
      "Epoch 4/5\n",
      "\u001b[1m212/212\u001b[0m \u001b[32m━━━━━━━━━━━━━━━━━━━━\u001b[0m\u001b[37m\u001b[0m \u001b[1m166s\u001b[0m 782ms/step - accuracy: 0.9758 - loss: 0.0647 - val_accuracy: 0.8133 - val_loss: 0.7157\n",
      "Epoch 5/5\n",
      "\u001b[1m212/212\u001b[0m \u001b[32m━━━━━━━━━━━━━━━━━━━━\u001b[0m\u001b[37m\u001b[0m \u001b[1m166s\u001b[0m 781ms/step - accuracy: 0.9722 - loss: 0.0642 - val_accuracy: 0.7911 - val_loss: 0.8147\n"
     ]
    }
   ],
   "source": [
    "# Train the model\n",
    "history = model.fit(X_train, y_train, epochs=5, batch_size=64, validation_data=(X_val, y_val))"
   ]
  },
  {
   "cell_type": "code",
   "execution_count": 135,
   "id": "94a5f084",
   "metadata": {},
   "outputs": [
    {
     "data": {
      "image/png": "[encoded data removed]",
      "text/plain": [
       "<Figure size 640x480 with 1 Axes>"
      ]
     },
     "metadata": {},
     "output_type": "display_data"
    },
    {
     "data": {
      "image/png": "[encoded data removed]",
      "text/plain": [
       "<Figure size 640x480 with 1 Axes>"
      ]
     },
     "metadata": {},
     "output_type": "display_data"
    }
   ],
   "source": [
    "import matplotlib.pyplot as plt\n",
    "\n",
    "# Plot training & validation loss values\n",
    "plt.plot(history.history['loss'])\n",
    "plt.plot(history.history['val_loss'])\n",
    "plt.title('Model Loss')\n",
    "plt.ylabel('Loss')\n",
    "plt.xlabel('Epoch')\n",
    "plt.legend(['Train', 'Validation'], loc='upper right')\n",
    "plt.show()\n",
    "\n",
    "# Plot training & validation accuracy values\n",
    "plt.plot(history.history['accuracy'])\n",
    "plt.plot(history.history['val_accuracy'])\n",
    "plt.title('Model Accuracy')\n",
    "plt.ylabel('Accuracy')\n",
    "plt.xlabel('Epoch')\n",
    "plt.legend(['Train', 'Validation'], loc='upper right')\n",
    "plt.show()"
   ]
  },
  {
   "cell_type": "code",
   "execution_count": 136,
   "id": "427e125b",
   "metadata": {},
   "outputs": [
    {
     "name": "stdout",
     "output_type": "stream",
     "text": [
      "\u001b[1m106/106\u001b[0m \u001b[32m━━━━━━━━━━━━━━━━━━━━\u001b[0m\u001b[37m\u001b[0m \u001b[1m2s\u001b[0m 13ms/step - accuracy: 0.8008 - loss: 0.7469\n",
      "Validation Loss: 0.8153405785560608\n",
      "Validation Accuracy: 0.7911242842674255\n"
     ]
    }
   ],
   "source": [
    "val_loss, val_accuracy = model.evaluate(X_val, y_val)\n",
    "print(f'Validation Loss: {val_loss}')\n",
    "print(f'Validation Accuracy: {val_accuracy}')"
   ]
  },
  {
   "cell_type": "code",
   "execution_count": 137,
   "id": "a2e90a10",
   "metadata": {},
   "outputs": [
    {
     "name": "stdout",
     "output_type": "stream",
     "text": [
      "\u001b[1m160/160\u001b[0m \u001b[32m━━━━━━━━━━━━━━━━━━━━\u001b[0m\u001b[37m\u001b[0m \u001b[1m1s\u001b[0m 6ms/step\n"
     ]
    }
   ],
   "source": [
    "predictions = model.predict(X_test)"
   ]
  },
  {
   "cell_type": "code",
   "execution_count": 139,
   "id": "9e4db148",
   "metadata": {},
   "outputs": [
    {
     "name": "stdout",
     "output_type": "stream",
     "text": [
      "\u001b[1m160/160\u001b[0m \u001b[32m━━━━━━━━━━━━━━━━━━━━\u001b[0m\u001b[37m\u001b[0m \u001b[1m1s\u001b[0m 4ms/step\n"
     ]
    }
   ],
   "source": [
    "predictions = model.predict(X_test)\n",
    "predicted_labels = [1 if prediction > 0.5 else 0 for prediction in predictions]"
   ]
  },
  {
   "cell_type": "code",
   "execution_count": 142,
   "id": "625fff95",
   "metadata": {},
   "outputs": [],
   "source": [
    "predictions_df = pd.DataFrame({'doc_id': test_df['doc_id'], 'predicted_relevance': predicted_labels})"
   ]
  },
  {
   "cell_type": "code",
   "execution_count": 143,
   "id": "98d5b665",
   "metadata": {},
   "outputs": [],
   "source": [
    "predictions_df.to_csv('predictions.csv', index=False)"
   ]
  },
  {
   "cell_type": "code",
   "execution_count": 145,
   "id": "781831ab",
   "metadata": {},
   "outputs": [],
   "source": [
    "\n",
    "predictions_df.rename(columns={'doc_id': 'ID'}, inplace=True)"
   ]
  },
  {
   "cell_type": "code",
   "execution_count": 146,
   "id": "e0daeabb",
   "metadata": {},
   "outputs": [],
   "source": [
    "predictions_df.to_csv('predictions1.csv', index=False)"
   ]
  },
  {
   "cell_type": "code",
   "execution_count": null,
   "id": "ac3480df",
   "metadata": {},
   "outputs": [],
   "source": []
  },
  {
   "cell_type": "code",
   "execution_count": 159,
   "id": "c094f526",
   "metadata": {},
   "outputs": [
    {
     "data": {
      "text/plain": [
       "21120"
      ]
     },
     "execution_count": 159,
     "metadata": {},
     "output_type": "execute_result"
    }
   ],
   "source": [
    "train_df.shape[0]\n",
    "      "
   ]
  },
  {
   "cell_type": "code",
   "execution_count": 160,
   "id": "80bac46c",
   "metadata": {},
   "outputs": [
    {
     "data": {
      "text/plain": [
       "5113"
      ]
     },
     "execution_count": 160,
     "metadata": {},
     "output_type": "execute_result"
    }
   ],
   "source": [
    "test_df.shape[0]"
   ]
  },
  {
   "cell_type": "code",
   "execution_count": 162,
   "id": "af1adcd9",
   "metadata": {},
   "outputs": [],
   "source": [
    "predictions_df = predictions_df.drop_duplicates()\n"
   ]
  },
  {
   "cell_type": "code",
   "execution_count": 163,
   "id": "d0e46bb6",
   "metadata": {},
   "outputs": [
    {
     "data": {
      "text/plain": [
       "5058"
      ]
     },
     "execution_count": 163,
     "metadata": {},
     "output_type": "execute_result"
    }
   ],
   "source": [
    "predictions_df.shape[0]"
   ]
  },
  {
   "cell_type": "code",
   "execution_count": null,
   "id": "02b55cbd",
   "metadata": {},
   "outputs": [],
   "source": []
  },
  {
   "cell_type": "code",
   "execution_count": null,
   "id": "5293bdc6",
   "metadata": {},
   "outputs": [],
   "source": []
  },
  {
   "cell_type": "code",
   "execution_count": null,
   "id": "37d19cb3",
   "metadata": {},
   "outputs": [],
   "source": []
  }
 ],
 "metadata": {
  "kernelspec": {
   "display_name": "Python 3 (ipykernel)",
   "language": "python",
   "name": "python3"
  },
  "language_info": {
   "codemirror_mode": {
    "name": "ipython",
    "version": 3
   },
   "file_extension": ".py",
   "mimetype": "text/x-python",
   "name": "python",
   "nbconvert_exporter": "python",
   "pygments_lexer": "ipython3",
   "version": "3.11.4"
  }
 },
 "nbformat": 4,
 "nbformat_minor": 5
}
